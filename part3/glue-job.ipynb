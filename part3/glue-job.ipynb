{
 "cells": [
  {
   "cell_type": "markdown",
   "id": "e25415af",
   "metadata": {},
   "source": [
    "# Use `AWS Gluestudio` to load, join and rewrite dataframe into s3\n",
    "### Boilerplate import `Glue PySpark` libraries"
   ]
  },
  {
   "cell_type": "code",
   "execution_count": null,
   "id": "9ae2114b",
   "metadata": {
    "scrolled": true
   },
   "outputs": [
    {
     "name": "stdout",
     "output_type": "stream",
     "text": [
      "Welcome to the Glue Interactive Sessions Kernel\n",
      "For more information on available magic commands, please type %help in any new cell.\n",
      "\n",
      "Please view our Getting Started page to access the most up-to-date information on the Interactive Sessions kernel: https://docs.aws.amazon.com/glue/latest/dg/interactive-sessions.html\n",
      "It looks like there is a newer version of the kernel available. The latest version is 0.31 and you have 0.30 installed.\n",
      "Please run `pip install --upgrade aws-glue-sessions` to upgrade your kernel\n",
      "Authenticating with environment variables and user-defined glue_role_arn: arn:aws:iam::498938378154:role/service-role/AWSGlueServiceRole-gg\n",
      "Attempting to use existing AssumeRole session credentials.\n",
      "Trying to create a Glue session for the kernel.\n",
      "Worker Type: G.1X\n",
      "Number of Workers: 5\n",
      "Session ID: 9b5ed5d3-39f5-460a-81f9-d8841e200c2f\n",
      "Applying the following default arguments:\n",
      "--glue_kernel_version 0.30\n",
      "--enable-glue-datacatalog true\n",
      "Waiting for session 9b5ed5d3-39f5-460a-81f9-d8841e200c2f to get into ready status...\n",
      "Session 9b5ed5d3-39f5-460a-81f9-d8841e200c2f has been created\n",
      "\n",
      "\n"
     ]
    }
   ],
   "source": [
    "import sys\n",
    "from awsglue.transforms import *\n",
    "from awsglue.utils import getResolvedOptions\n",
    "from pyspark.context import SparkContext\n",
    "from awsglue.context import GlueContext\n",
    "from awsglue.job import Job"
   ]
  },
  {
   "cell_type": "markdown",
   "id": "b028c1cc",
   "metadata": {},
   "source": [
    "### Build a glueContext"
   ]
  },
  {
   "cell_type": "code",
   "execution_count": 1,
   "id": "6dbff0cb",
   "metadata": {},
   "outputs": [
    {
     "name": "stdout",
     "output_type": "stream",
     "text": [
      "\n"
     ]
    }
   ],
   "source": [
    "glueContext = GlueContext(SparkContext.getOrCreate())"
   ]
  },
  {
   "cell_type": "markdown",
   "id": "50dded74",
   "metadata": {},
   "source": [
    "Read parquet files into dynamic dataframe"
   ]
  },
  {
   "cell_type": "code",
   "execution_count": 2,
   "id": "c61a6940",
   "metadata": {},
   "outputs": [
    {
     "name": "stdout",
     "output_type": "stream",
     "text": [
      "\n"
     ]
    }
   ],
   "source": [
    "up_features = glueContext.create_dynamic_frame_from_options(connection_type = \"parquet\", connection_options = {\"paths\":[\"s3://imba-alan/features/up_features_db/\"]})\n",
    "prd_features = glueContext.create_dynamic_frame_from_options(connection_type = \"parquet\", connection_options = {\"paths\":[\"s3://imba-alan/features/prd_feature_db/\"]})\n",
    "user_features_1 = glueContext.create_dynamic_frame_from_options(connection_type = \"parquet\", connection_options = {\"paths\":[\"s3://imba-alan/features/user_features_1_db/\"]})\n",
    "user_features_2 = glueContext.create_dynamic_frame_from_options(connection_type = \"parquet\", connection_options = {\"paths\":[\"s3://imba-alan/features/user_features_2_db/\"]})"
   ]
  },
  {
   "cell_type": "markdown",
   "id": "7eefad5a-ebe4-4e7e-bb90-60fe77a444bf",
   "metadata": {},
   "source": [
    "### Join the four tables (dataframes)"
   ]
  },
  {
   "cell_type": "markdown",
   "id": "3628a38e",
   "metadata": {},
   "source": [
    "Join the user features first"
   ]
  },
  {
   "cell_type": "code",
   "execution_count": 3,
   "id": "47b40bdc-fa79-4373-b134-7f537a73cadd",
   "metadata": {},
   "outputs": [
    {
     "name": "stdout",
     "output_type": "stream",
     "text": [
      "\n"
     ]
    }
   ],
   "source": [
    "users = Join.apply(user_features_1.rename_field('user_id','user_id_temp'), user_features_2, 'user_id_temp', 'user_id').drop_fields(['user_id_temp'])"
   ]
  },
  {
   "cell_type": "markdown",
   "id": "78b13244",
   "metadata": {},
   "source": [
    "Join all together"
   ]
  },
  {
   "cell_type": "code",
   "execution_count": 4,
   "id": "9303c4c9-99f9-4585-9124-0080da426f60",
   "metadata": {},
   "outputs": [
    {
     "name": "stdout",
     "output_type": "stream",
     "text": [
      "\n"
     ]
    }
   ],
   "source": [
    "features = Join.apply(Join.apply(users.rename_field('user_id','user_id_temp'),up_features,'user_id_temp','user_id').drop_fields(['user_id_temp']),\n",
    "           prd_features.rename_field('product_id','product_id_temp'),'product_id','product_id_temp').drop_fields(['product_id_temp'])"
   ]
  },
  {
   "cell_type": "code",
   "execution_count": 6,
   "id": "7480cfd2-a7a8-403b-8aca-c78e34776792",
   "metadata": {},
   "outputs": [
    {
     "name": "stdout",
     "output_type": "stream",
     "text": [
      "Total rows: 13307953\n",
      "root\n",
      "|-- product_id: long\n",
      "|-- up_orders: int\n",
      "|-- user_mean_days_since_prior: double\n",
      "|-- user_period: double\n",
      "|-- user_distinct_products: int\n",
      "|-- prod_second_orders: int\n",
      "|-- prod_reorders: int\n",
      "|-- user_reorder_ratio: double\n",
      "|-- user_total_products: int\n",
      "|-- up_average_cart_position: double\n",
      "|-- up_first_order: int\n",
      "|-- order_number_reordered_sum: double\n",
      "|-- user_orders: int\n",
      "|-- prod_orders: int\n",
      "|-- up_last_order: int\n",
      "|-- reordered_sum: double\n",
      "|-- prod_first_orders: int\n",
      "|-- user_id: long\n"
     ]
    }
   ],
   "source": [
    "print('Total rows: ' + str(features.count()))\n",
    "features.printSchema()"
   ]
  },
  {
   "cell_type": "code",
   "execution_count": 7,
   "id": "dba712d7-a73d-4059-b2b0-644151085679",
   "metadata": {},
   "outputs": [
    {
     "name": "stdout",
     "output_type": "stream",
     "text": [
      "\n"
     ]
    }
   ],
   "source": [
    "features_s = features.toDF().repartition(1)\n",
    "features_s.write.csv('s3://imba-alan/features/feature_in_one/')"
   ]
  },
  {
   "cell_type": "code",
   "execution_count": null,
   "id": "941baa32-80ed-40c0-9543-e51c67faa9f1",
   "metadata": {},
   "outputs": [],
   "source": []
  }
 ],
 "metadata": {
  "kernelspec": {
   "display_name": "Python 3.9.13 64-bit",
   "language": "python",
   "name": "python3"
  },
  "language_info": {
   "codemirror_mode": {
    "name": "ipython",
    "version": 3
   },
   "file_extension": ".py",
   "mimetype": "text/x-python",
   "name": "python",
   "nbconvert_exporter": "python",
   "pygments_lexer": "ipython3",
   "version": "3.9.13"
  },
  "vscode": {
   "interpreter": {
    "hash": "b0fa6594d8f4cbf19f97940f81e996739fb7646882a419484c72d19e05852a7e"
   }
  }
 },
 "nbformat": 4,
 "nbformat_minor": 5
}
